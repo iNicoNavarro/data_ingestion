{
 "cells": [
  {
   "cell_type": "code",
   "execution_count": 1,
   "metadata": {},
   "outputs": [],
   "source": [
    "import sqlite3\n",
    "import pandas as pd\n",
    "db_path = '../db/series_tv.db'"
   ]
  },
  {
   "cell_type": "markdown",
   "metadata": {},
   "source": [
    "1. Runtime promedio (averageRuntime) de todos los shows:\n",
    "\n"
   ]
  },
  {
   "cell_type": "code",
   "execution_count": 2,
   "metadata": {},
   "outputs": [
    {
     "name": "stdout",
     "output_type": "stream",
     "text": [
      "Runtime promedio de todos los shows:    avg_runtime\n",
      "0    42.950715\n"
     ]
    }
   ],
   "source": [
    "conn = sqlite3.connect(db_path)\n",
    "avg_runtime_query = \"\"\"\n",
    "SELECT AVG(averageRuntime) AS avg_runtime\n",
    "FROM shows\n",
    "\"\"\"\n",
    "avg_runtime = pd.read_sql_query(avg_runtime_query, conn)\n",
    "print(\"Runtime promedio de todos los shows:\", avg_runtime)\n",
    "conn.close()\n"
   ]
  },
  {
   "cell_type": "markdown",
   "metadata": {},
   "source": [
    "2. Conteo de shows de TV por género:\n",
    "\n"
   ]
  },
  {
   "cell_type": "code",
   "execution_count": 3,
   "metadata": {},
   "outputs": [
    {
     "name": "stdout",
     "output_type": "stream",
     "text": [
      "Conteo de shows de TV por género:\n",
      "               genre  show_count\n",
      "0            Action         110\n",
      "1             Adult          82\n",
      "2         Adventure         172\n",
      "3             Anime         360\n",
      "4          Children         510\n",
      "5            Comedy         955\n",
      "6             Crime         160\n",
      "7               DIY           6\n",
      "8             Drama         707\n",
      "9            Family          88\n",
      "10          Fantasy         114\n",
      "11             Food         236\n",
      "12          History          67\n",
      "13           Horror         110\n",
      "14          Medical          71\n",
      "15            Music          96\n",
      "16          Mystery         197\n",
      "17           Nature          18\n",
      "18          Romance          53\n",
      "19  Science-Fiction         232\n",
      "20           Sports          46\n",
      "21     Supernatural         384\n",
      "22         Thriller          64\n",
      "23           Travel         221\n",
      "24              War          52\n"
     ]
    }
   ],
   "source": [
    "conn = sqlite3.connect(db_path)\n",
    "genre_count_query = \"\"\"\n",
    "SELECT g.genre, COUNT(sg.show_id) AS show_count\n",
    "FROM genres g\n",
    "JOIN show_genres sg ON g.rowid = sg.genre_id\n",
    "GROUP BY g.genre\n",
    "\"\"\"\n",
    "genre_count = pd.read_sql_query(genre_count_query, conn)\n",
    "print(\"Conteo de shows de TV por género:\\n\", genre_count)\n",
    "conn.close()\n"
   ]
  },
  {
   "cell_type": "markdown",
   "metadata": {},
   "source": [
    "3. Listar los dominios únicos del sitio oficial de los shows:\n",
    "\n"
   ]
  },
  {
   "cell_type": "code",
   "execution_count": 4,
   "metadata": {},
   "outputs": [
    {
     "name": "stdout",
     "output_type": "stream",
     "text": [
      "Dominios únicos de los sitios oficiales:\n",
      " ['www.ivi.ru' 'okko.tv' 'wink.ru' 'kion.ru' 'premier.one'\n",
      " 'iview.abc.net.au' 'v.qq.com' 'v.youku.com' 'w.mgtv.com' 'asiapoisk.com'\n",
      " 'www.bbc.co.uk' 'www.hotstar.com' 'smotrim.ru' 'youtube.com'\n",
      " 'program.imbc.com' 'elisaviihde.fi' 'play.tv2.no' 'tvn.cjenm.com'\n",
      " 'www.amazon.co.uk' 'www.viceland.com' 'www.wowpresentsplus.com'\n",
      " 'www.netflix.com' 'www.iq.com' 'v.youku.tv' 'www.paramountplus.com'\n",
      " 'www.youtube.com' 'www.primevideo.com' 'shahid.mbc.net'\n",
      " 'discoveryplus.in' 'www.univision.com' 'www.cbc.ca' 'abcnews.go.com'\n",
      " 'www.youku.tv' 'www.knowledgekids.ca' 'www.peacocktv.com'\n",
      " 'roosterteeth.com' 'watch.wwe.com' 'www.nbcnews.com' 'www.cbsnews.com'\n",
      " 'tv.nrk.no' 'rtl.hu' 'www.tv4play.se' 'www.wwe.com' 'magnolia.com'\n",
      " 'm.youku.com' 'vk.com' 'viaplay.dk' 'www.disneyplus.com' 'www.amazon.com'\n",
      " 'start.ru' 'odekake-kozame.com' 'www.iqiyi.com' 'www.cnn.com'\n",
      " 'www.sbs.com.au' 'www.today.com' 'www.dropout.tv' 'www.discoveryplus.com'\n",
      " 'abc.com' 'voyo.nova.cz' 'www.cwtv.com' 'twit.tv' 'www.foxnews.com'\n",
      " 'weibo.com' 'www.bilibili.com' 'www.kuaishou.com' 'tv3.ru' 'www.srf.ch'\n",
      " 'disneynow.com' 'bleacherreport.com' 'www.pokergo.com' 'www.svtplay.se'\n",
      " 'www.outtvgo.com' 'www.ddtpro.com' 'so.youku.com' 'www.itv.com'\n",
      " 'www.sonyliv.com' 'www.jiocinema.com' 'www.njpw1972.com' 'www.mtv.fi'\n",
      " 'ver.movistarplus.es' 'www.hbomax.com' 'more.tv' 'www.britbox.com'\n",
      " 'voyo.si' 'stories.showmax.com' 'www.motortrend.com' 'www.dndbeyond.com'\n",
      " 'www.alaraby.com' 'www.blutv.com' 'network.wwe.com' 'www.bet.plus'\n",
      " 'allblk.tv' 'www.sundancenow.com' 'www.hulu.com' 'www.zdf.de'\n",
      " 'www.channel4.com' 'www.dr.dk' 'www.tvnow.de' 'www.crave.ca'\n",
      " 'rosenbergreport.tv' 'list.youku.com' 'www.tving.com' 'www.exxen.com'\n",
      " 'v2.videoland.com' 'www.goplay.be' 'www.facebook.com' 'tv.apple.com'\n",
      " 'sic.pt' 'vidol.tv' 'www.swearnet.com' 'www.sho.com' 'app.pureflix.com'\n",
      " 'www.dailywire.com' 'www.asiasuperyoung.xyz'\n",
      " 'talesofweddingrings-anime.jp' 'www.raiplay.it' 'www.pbs.org'\n",
      " 'amasupercross.com' 'vod.tvp.pl' 'play.max.com' 'ukrainer.net'\n",
      " 'www.adweek.com' 'www.thezeusnetwork.com' 'www.gain.tv'\n",
      " 'www.goldenglobes.com' 'www.5-tv.ru' 'discoveryplus.com' 'pro-tv.info'\n",
      " 'www.nta.ua' 'kusuriyanohitorigoto.jp' 'kanaten-anime.com'\n",
      " 'www.foxbusiness.com' 'www.bravotv.com' 'www.tv3.dk'\n",
      " 'www.atopthefourthwall.com' 'www.nbc.com' 'nation.foxnews.com'\n",
      " 'goplay.be' 'www.insideofyoupodcast.com' 'www.shudder.com' 'tubitv.com'\n",
      " 'wetv.vip' 'frieren-anime.jp' 'www.nfl.com' 'sengoku-youko.com'\n",
      " 'www.cc.com' 'www.bac.org.il' 'www.gagaoolala.com' 'elcinema.com'\n",
      " 'critrole.com' 'www.aetv.com' 'infoman.radio-canada.ca' 'www.angel.com'\n",
      " 'www.trueid.net' 'vix.com' 'simonscat.com' 'm.youtube.com' 'www.cbs.com'\n",
      " 'www.harlemglobetrotters.com' 'vyzit-v-dubae.tnt-online.ru'\n",
      " 'tnt-online.ru' 'premium.atresplayer.com' 'www.ufc.com' 'sumo.tv2.no'\n",
      " 'www.mpt.org' 'auvio.rtbf.be' 'stopgame.ru' 'www.talkvillepodcast.com'\n",
      " 'www.nationalgeographic.com' 'www.stan.com.au' 'www.ruutu.fi'\n",
      " 'galgos.movistarplus.es' 'skamitalia.timvision.it' 'ici.tou.tv'\n",
      " 'www.amazon.in' 'www.ardmediathek.de' 'therokuchannel.roku.com'\n",
      " 'www.max.com' 'sympacool.com' 'povysaia-gradus.tnt-online.ru'\n",
      " 'viaplay.no' 'heyqween.tv' 'www.sky.com' 'plus.rtl.de' 'seasonvar.ru'\n",
      " 'www.kinopoisk.ru' 'vtmgo.be' 'www.france.tv' 'flameserial.ru'\n",
      " 'tv.nova.cz' 'vmesteproject.ru' 'www.miguvideo.com'\n",
      " 'independentwrestling.tv' 'www.laisves.tv' 'megogo.net' 'kurzgesagt.org'\n",
      " 'tv.line.me' 'watcha.com' 'tv.tv2.dk' 'gem.cbc.ca' 'disneyplus.com'\n",
      " 'www.espn.com']\n"
     ]
    }
   ],
   "source": [
    "from urllib.parse import urlparse\n",
    "\n",
    "conn = sqlite3.connect(db_path)\n",
    "official_sites_query = \"\"\"\n",
    "SELECT DISTINCT officialSite\n",
    "FROM shows\n",
    "WHERE officialSite IS NOT NULL\n",
    "\"\"\"\n",
    "official_sites = pd.read_sql_query(official_sites_query, conn)\n",
    "official_sites['domain'] = official_sites['officialSite'].apply(lambda x: urlparse(x).netloc)\n",
    "unique_domains = official_sites['domain'].unique()\n",
    "print(\"Dominios únicos de los sitios oficiales:\\n\", unique_domains)\n",
    "conn.close()\n"
   ]
  }
 ],
 "metadata": {
  "kernelspec": {
   "display_name": "Python 3",
   "language": "python",
   "name": "python3"
  },
  "language_info": {
   "codemirror_mode": {
    "name": "ipython",
    "version": 3
   },
   "file_extension": ".py",
   "mimetype": "text/x-python",
   "name": "python",
   "nbconvert_exporter": "python",
   "pygments_lexer": "ipython3",
   "version": "3.12.4"
  }
 },
 "nbformat": 4,
 "nbformat_minor": 2
}
